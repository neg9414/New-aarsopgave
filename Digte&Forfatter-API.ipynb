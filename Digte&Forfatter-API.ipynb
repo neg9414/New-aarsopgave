{
 "cells": [
  {
   "cell_type": "markdown",
   "metadata": {},
   "source": [
    "# Aflevering 2\n",
    "\n",
    "## Opgave\n",
    "Vi har arbejdet med forskellige API'er, hvor jeg nu har valgt et bestemmet API for at lavet et program, der kommunikerer med det. Jeg skal  aflevere en færdig version af mit Python-program, som skal opfylde nogle krav. \n",
    "- Først skal programmet starte med at printe en velkomsthilsen, der forklarer hvordan man bruger det. \n",
    "- Derefter skal programmet give brugeren mulighed for at indtaste et valg, som bruges til at vise det ønskede data fra API'et. Hvis brugeren indtaster ugyldigt input, skal programmet håndtere det ved at vise en fejlmeddelelse. \n",
    "- Jeg skal også sikre, at alle funktioner i programmet indeholder en forklaring på hvad de gør og hvordan de fungerer. \n",
    "- Endelig skal koden være struktureret korrekt, så den kan køre uden problemer. Det betyder, at funktionerne skal være defineret, før de bliver kaldt."
   ]
  },
  {
   "cell_type": "markdown",
   "metadata": {},
   "source": [
    "## Import\n",
    "Den linje importerer et bibliotek kaldet requests, som bruges til at hente data fra internettet."
   ]
  },
  {
   "cell_type": "code",
   "execution_count": 1,
   "metadata": {},
   "outputs": [],
   "source": [
    "import requests"
   ]
  },
  {
   "cell_type": "markdown",
   "metadata": {},
   "source": [
    "Denne funktion viser en besked til brugeren, der forklarer hvordan programmet fungerer."
   ]
  },
  {
   "cell_type": "code",
   "execution_count": 7,
   "metadata": {},
   "outputs": [],
   "source": [
    "def welcome_message():\n",
    "    print(\"Velkommen til PoetryDB API App.\")\n",
    "    print(\"Du kan søge efter værker af en bestemt forfatter eller finde specifikke digte.\")\n",
    "    print(\"Indtast forfatterens navn for at se deres værker, eller indtast titlen på et værk for at læse det.\")\n"
   ]
  },
  {
   "cell_type": "markdown",
   "metadata": {},
   "source": [
    "## Bruger-input\n",
    "Denne funktion beder brugeren om at skrive noget ind (f.eks. en forfatters navn eller en digttitel).\n",
    "Hvis brugeren ikke skriver noget, bliver de bedt om at prøve igen. Den returnerer det brugeren skriver som en streng."
   ]
  },
  {
   "cell_type": "code",
   "execution_count": 8,
   "metadata": {},
   "outputs": [],
   "source": [
    "def read_user_input():\n",
    "    \"\"\" Reads user input and returns it. \"\"\"\n",
    "    search_term = input(\"Indtast et søgeord (forfatterens navn eller digtets titel): \").strip()\n",
    "    if not search_term:\n",
    "        print(\"Søgeordet må ikke være tomt. Prøv igen.\")\n",
    "        return read_user_input()\n",
    "    return search_term"
   ]
  },
  {
   "cell_type": "markdown",
   "metadata": {},
   "source": [
    "## Print\n",
    "\n",
    "Denne funktion viser resultaterne af søgningen. Hvis den fandt digte eller værker, vises de på skærmen.\n",
    "Hvis ikke viser den en besked om, at der ikke blev fundet resultater.\n"
   ]
  },
  {
   "cell_type": "code",
   "execution_count": 9,
   "metadata": {},
   "outputs": [],
   "source": [
    "def print_result(result):\n",
    "    \"\"\" Prints the search results in a user-friendly manner. \"\"\"\n",
    "    if isinstance(result, list) and result:  # Check if result is a non-empty list\n",
    "        if \"title\" in result[0]:  # Author's works\n",
    "            print(\"Forfatterens værker:\")\n",
    "            for poem in result:\n",
    "                print(f\"- {poem['title']}\")\n",
    "        elif \"lines\" in result[0]:  # Poem lines\n",
    "            print(\"\\n\".join(result[0]['lines']))\n",
    "        else:\n",
    "            print(\"Ukendt format af data.\")\n",
    "    else:\n",
    "        print(\"Ingen resultater fundet.\")"
   ]
  },
  {
   "cell_type": "markdown",
   "metadata": {},
   "source": [
    "## Request\n",
    "\n",
    "Denne funktion laver en \"anmodning\" til PoetryDB API'en for at hente data baseret på brugerens søgning.\n",
    "Hvis alt går godt, får vi dataene som en liste. Hvis noget går galt, vises en fejlmeddelelse."
   ]
  },
  {
   "cell_type": "code",
   "execution_count": 10,
   "metadata": {},
   "outputs": [],
   "source": [
    "def get_data(search_term):\n",
    "    \"\"\" Fetches data from the PoetryDB API based on the search term. \"\"\"\n",
    "    if \"/\" in search_term or '\"' in search_term:\n",
    "        url = f\"https://poetrydb.org/title/{search_term}/lines.json\"\n",
    "    else:\n",
    "        url = f\"https://poetrydb.org/author/{search_term}/title.json\"\n",
    "    \n",
    "    response = requests.get(url)\n",
    "    if response.status_code == 200:\n",
    "        return response.json()\n",
    "    else:\n",
    "        print(\"Noget gik galt med forespørgslen.\")\n",
    "        return None"
   ]
  },
  {
   "cell_type": "markdown",
   "metadata": {},
   "source": [
    "## Main\n",
    "\n",
    "main() er den vigtigste funktion, der binder alt sammen. Den kører programmet i en bestemt række følge:\n",
    "\n",
    "- Viser velkomstbesked.\n",
    "- Beder brugeren om input.\n",
    "- Henter data fra API'en.\n",
    "- Viser resultaterne.\n",
    "\n",
    "Når programmet starter, kaldes main() for at starte hele processen."
   ]
  },
  {
   "cell_type": "code",
   "execution_count": null,
   "metadata": {},
   "outputs": [],
   "source": [
    "def main():\n",
    "    \"\"\" Main loop of the program. \"\"\"\n",
    "    welcome_message()\n",
    "    search_term = read_user_input()\n",
    "    result = get_data(search_term)\n",
    "\n",
    "    print(\"\\n\" * 2)\n",
    "\n",
    "    if result:\n",
    "        print_result(result)\n",
    "\n",
    "# Kør programmet\n",
    "if __name__ == \"__main__\":\n",
    "    main()"
   ]
  }
 ],
 "metadata": {
  "kernelspec": {
   "display_name": "Python 3",
   "language": "python",
   "name": "python3"
  },
  "language_info": {
   "codemirror_mode": {
    "name": "ipython",
    "version": 3
   },
   "file_extension": ".py",
   "mimetype": "text/x-python",
   "name": "python",
   "nbconvert_exporter": "python",
   "pygments_lexer": "ipython3",
   "version": "3.12.8"
  }
 },
 "nbformat": 4,
 "nbformat_minor": 2
}
