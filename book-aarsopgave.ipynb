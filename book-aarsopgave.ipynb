{
 "cells": [
  {
   "cell_type": "markdown",
   "metadata": {},
   "source": [
    "# helloS"
   ]
  },
  {
   "cell_type": "code",
   "execution_count": null,
   "metadata": {},
   "outputs": [],
   "source": [
    "import requests"
   ]
  },
  {
   "cell_type": "markdown",
   "metadata": {},
   "source": [
    "### Velkomst bedsked"
   ]
  },
  {
   "cell_type": "code",
   "execution_count": null,
   "metadata": {},
   "outputs": [
    {
     "name": "stdout",
     "output_type": "stream",
     "text": [
      "Velkommen til Online-Biblioteket\n",
      "Her kan du nemt finde de bøger, du har brug for.\n",
      "Du kan søge efter bøger baseret på titel, forfatter, årstal, genre, bogtype eller tidsperiode.\n",
      "Vælg en kategori for at komme hurtiger i gang!\n"
     ]
    }
   ],
   "source": [
    "def welcome_message():\n",
    "    print(\"Velkommen til Online-Biblioteket\")\n",
    "    print(\"Her kan du nemt finde de bøger, du har brug for.\")\n",
    "    print(\"Du kan søge efter bøger baseret på titel, forfatter, årstal, genre, bogtype eller tidsperiode.\")\n",
    "    print(\"Vælg en kategori for at komme hurtiger i gang!\")\n",
    "\n",
    "welcome_message()"
   ]
  },
  {
   "cell_type": "markdown",
   "metadata": {},
   "source": [
    "### Brugerinput"
   ]
  },
  {
   "cell_type": "code",
   "execution_count": null,
   "metadata": {},
   "outputs": [],
   "source": [
    "titel = input(\"Indtast en bogtitel (eller tryk Enter for at springe over): \")\n",
    "forfatter = input(\"Indtast en forfatter (eller tryk Enter): \")\n",
    "genre = input(\"Indtast en genre (fx historie, fiktion): \")\n",
    "bogtype = input(\"Indtast en bogtype (fx roman, digt): \")\n",
    "tidsperiode = input(\"Indtast en tidsperiode (fx romantikken): \")\n",
    "årstal = input(\"Indtast et årstal (fx 1820): \")"
   ]
  },
  {
   "cell_type": "code",
   "execution_count": null,
   "metadata": {},
   "outputs": [],
   "source": [
    "query = \"\"\n",
    "if titel:\n",
    "    query += f\"+intitle:{titel}\"\n",
    "if forfatter:\n",
    "    query += f\"+inauthor:{forfatter}\"\n",
    "if genre:\n",
    "    query += f\"+subject:{genre}\"\n",
    "if bogtype:\n",
    "    query += f\"+{bogtype}\"\n",
    "if tidsperiode:\n",
    "    query += f\"+{tidsperiode}\"\n",
    "if årstal:\n",
    "    query += f\"+inpublisher:{årstal}\"\n",
    "\n",
    "\n",
    "url = f\"https://www.googleapis.com/books/v1/volumes?q={query}&fields=items(volumeInfo/title,volumeInfo/authors,volumeInfo/publishedDate,volumeInfo/imageLinks)&maxResults=5\"\n",
    "\n",
    "# Henter data\n",
    "response = requests.get(url)\n",
    "\n",
    "# Tjek om vi får et gyldigt svar\n",
    "if response.status_code == 200:\n",
    "    data = response.json()\n",
    "else:\n",
    "    print(\"Noget gik galt. Kunne ikke hente data.\")"
   ]
  },
  {
   "cell_type": "markdown",
   "metadata": {},
   "source": [
    "### Main loop of the program"
   ]
  },
  {
   "cell_type": "code",
   "execution_count": null,
   "metadata": {},
   "outputs": [],
   "source": [
    "bøger = []\n",
    "\n",
    "for item in data.get(\"items\", []):\n",
    "    info = item.get(\"volumeInfo\", {})\n",
    "    bøger.append({\n",
    "        \"Titel\": info.get(\"title\", \"Ukendt\"),\n",
    "        \"Forfatter(e)\": \", \".join(info.get(\"authors\", [\"Ukendt\"])),\n",
    "        \"Udgivelsesår\": info.get(\"publishedDate\", \"Ukendt\"),\n",
    "        \"Forside\": info.get(\"imageLinks\", {}).get(\"thumbnail\", \"Ingen\")\n",
    "    })\n"
   ]
  }
 ],
 "metadata": {
  "kernelspec": {
   "display_name": "Python 3",
   "language": "python",
   "name": "python3"
  },
  "language_info": {
   "codemirror_mode": {
    "name": "ipython",
    "version": 3
   },
   "file_extension": ".py",
   "mimetype": "text/x-python",
   "name": "python",
   "nbconvert_exporter": "python",
   "pygments_lexer": "ipython3",
   "version": "3.12.10"
  }
 },
 "nbformat": 4,
 "nbformat_minor": 2
}
