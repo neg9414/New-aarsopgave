{
 "cells": [
  {
   "cell_type": "markdown",
   "metadata": {},
   "source": [
    "### Importer nødvendige biblioteker\n",
    "Requests bruges til at hente data fra Google Books API   \n",
    "Pandas bruges til at vise resultater i en tabel"
   ]
  },
  {
   "cell_type": "code",
   "execution_count": 3,
   "metadata": {},
   "outputs": [],
   "source": [
    "import requests\n",
    "import pandas as pd"
   ]
  },
  {
   "cell_type": "markdown",
   "metadata": {},
   "source": [
    "### Velkomst bedsked\n",
    "Denne funktion viser en introduktion til brugeren"
   ]
  },
  {
   "cell_type": "code",
   "execution_count": 5,
   "metadata": {},
   "outputs": [
    {
     "name": "stdout",
     "output_type": "stream",
     "text": [
      "Velkommen til Online-Biblioteket\n",
      "Her kan du nemt finde de bøger, du har brug for.\n",
      "Du kan søge efter bøger baseret på titel, forfatter, årstal, genre, bogtype eller tidsperiode.\n",
      "Vælg en kategori for at komme hurtiger i gang!\n"
     ]
    }
   ],
   "source": [
    "def welcome_message():\n",
    "    print(\"Velkommen til Online-Biblioteket\")\n",
    "    print(\"Her kan du nemt finde de bøger, du har brug for.\")\n",
    "    print(\"Du kan søge efter bøger baseret på titel, forfatter, årstal, genre, bogtype eller tidsperiode.\")\n",
    "    print(\"Vælg en kategori for at komme hurtiger i gang!\")\n",
    "\n",
    "welcome_message()"
   ]
  },
  {
   "cell_type": "markdown",
   "metadata": {},
   "source": [
    "### Indtast søgekriterier\n",
    "Brugeren kan vælge at indtaste et eller flere kriterier"
   ]
  },
  {
   "cell_type": "code",
   "execution_count": 6,
   "metadata": {},
   "outputs": [],
   "source": [
    "titel = input(\"Indtast en bogtitel (eller tryk Enter for at springe over): \")\n",
    "forfatter = input(\"Indtast en forfatter (eller tryk Enter): \")\n",
    "genre = input(\"Indtast en genre (fx historie, fiktion): \")\n",
    "bogtype = input(\"Indtast en bogtype (fx roman, digt): \")\n",
    "tidsperiode = input(\"Indtast en tidsperiode (fx romantikken): \")\n",
    "årstal = input(\"Indtast et årstal (fx 1820): \")"
   ]
  },
  {
   "cell_type": "markdown",
   "metadata": {},
   "source": [
    "### Byg søgeforespørgsel til Google Books API\n",
    "Her samler vi alle input til en forespørgsel"
   ]
  },
  {
   "cell_type": "code",
   "execution_count": null,
   "metadata": {},
   "outputs": [],
   "source": [
    "query = \"\"\n",
    "if titel:\n",
    "    query += f\"+intitle:{titel}\"\n",
    "if forfatter:\n",
    "    query += f\"+inauthor:{forfatter}\"\n",
    "if genre:\n",
    "    query += f\"+subject:{genre}\"\n",
    "if bogtype:\n",
    "    query += f\"+{bogtype}\"\n",
    "if tidsperiode:\n",
    "    query += f\"+{tidsperiode}\"\n",
    "if årstal:\n",
    "    query += f\"+inpublisher:{årstal}\"\n",
    "\n",
    "\n",
    "url = f\"https://www.googleapis.com/books/v1/volumes?q={query}&fields=items(volumeInfo/title,volumeInfo/authors,volumeInfo/publishedDate,volumeInfo/imageLinks)&maxResults=25\""
   ]
  },
  {
   "cell_type": "markdown",
   "metadata": {},
   "source": [
    "### Hent data fra Google Books API"
   ]
  },
  {
   "cell_type": "code",
   "execution_count": 8,
   "metadata": {},
   "outputs": [],
   "source": [
    "response = requests.get(url)\n",
    "\n",
    "if response.status_code == 200:\n",
    "    data = response.json()\n",
    "else:\n",
    "    print(\"Noget gik galt. Kunne ikke hente data.\")"
   ]
  },
  {
   "cell_type": "markdown",
   "metadata": {},
   "source": [
    "### Vis søgeresultater i tabel\n",
    "Vi udtrækker information fra API-data og gemmer det i en pandas DataFrame"
   ]
  },
  {
   "cell_type": "code",
   "execution_count": null,
   "metadata": {},
   "outputs": [],
   "source": [
    "bøger = []\n",
    "\n",
    "for item in data.get(\"items\", []):\n",
    "    info = item.get(\"volumeInfo\", {})\n",
    "    bøger.append({\n",
    "        \"Titel\": info.get(\"title\", \"Ukendt\"),\n",
    "        \"Forfatter\": \", \".join(info.get(\"authors\", [\"Ukendt\"])),\n",
    "        \"Udgivelsesår\": info.get(\"publishedDate\", \"Ukendt\"),\n",
    "        \"Forside\": info.get(\"imageLinks\", {}).get(\"thumbnail\", \"Ingen\")\n",
    "    })\n",
    "\n",
    "df = pd.DataFrame(bøger)\n",
    "df"
   ]
  }
 ],
 "metadata": {
  "kernelspec": {
   "display_name": "Python 3",
   "language": "python",
   "name": "python3"
  },
  "language_info": {
   "codemirror_mode": {
    "name": "ipython",
    "version": 3
   },
   "file_extension": ".py",
   "mimetype": "text/x-python",
   "name": "python",
   "nbconvert_exporter": "python",
   "pygments_lexer": "ipython3",
   "version": "3.12.10"
  }
 },
 "nbformat": 4,
 "nbformat_minor": 2
}
