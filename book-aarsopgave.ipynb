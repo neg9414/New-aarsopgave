{
 "cells": [
  {
   "cell_type": "code",
   "execution_count": null,
   "metadata": {},
   "outputs": [],
   "source": [
    "import requests"
   ]
  },
  {
   "cell_type": "code",
   "execution_count": null,
   "metadata": {},
   "outputs": [],
   "source": [
    "def welcome_message():\n",
    "    print(\"Velkommen til Online-Biblioteket\")\n",
    "    print(\"Her kan du nemt finde de bøger, du har brug for.\")\n",
    "    print(\"Du kan søge efter bøger baseret på titel, forfatter, årstal, genre, bogtype eller tidsperiode.\")\n",
    "    print(\"Vælg en kategori for at komme hurtiger i gang!\") "
   ]
  },
  {
   "cell_type": "code",
   "execution_count": null,
   "metadata": {},
   "outputs": [],
   "source": []
  }
 ],
 "metadata": {
  "language_info": {
   "name": "python"
  }
 },
 "nbformat": 4,
 "nbformat_minor": 2
}
